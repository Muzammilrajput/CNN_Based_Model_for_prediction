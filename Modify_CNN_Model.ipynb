{
 "cells": [
  {
   "cell_type": "code",
   "execution_count": 12,
   "metadata": {},
   "outputs": [],
   "source": [
    "import keras\n",
    "from keras.models import Sequential\n",
    "from keras.layers import Convolution2D, MaxPooling2D, Flatten, Dense\n",
    "from keras.preprocessing.image import ImageDataGenerator"
   ]
  },
  {
   "cell_type": "code",
   "execution_count": 46,
   "metadata": {},
   "outputs": [
    {
     "name": "stderr",
     "output_type": "stream",
     "text": [
      "C:\\Users\\92344\\Anaconda3\\lib\\site-packages\\ipykernel_launcher.py:3: UserWarning: Update your `Conv2D` call to the Keras 2 API: `Conv2D(32, (3, 3), input_shape=(64, 64, 3..., activation=\"relu\")`\n",
      "  This is separate from the ipykernel package so we can avoid doing imports until\n",
      "C:\\Users\\92344\\Anaconda3\\lib\\site-packages\\ipykernel_launcher.py:6: UserWarning: Update your `Conv2D` call to the Keras 2 API: `Conv2D(32, (3, 3), activation=\"relu\")`\n",
      "  \n"
     ]
    }
   ],
   "source": [
    "#CNN Intialize\n",
    "classifier = Sequential()\n",
    "classifier.add(Convolution2D(32,3,3, input_shape =(64,64,3), activation =\"relu\" ))\n",
    "classifier.add(MaxPooling2D(pool_size = (2,2)))\n",
    "\n",
    "classifier.add(Convolution2D(32,3,3, activation =\"relu\" ))\n",
    "classifier.add(MaxPooling2D(pool_size = (2,2)))\n",
    "classifier.add(Flatten())"
   ]
  },
  {
   "cell_type": "code",
   "execution_count": 3,
   "metadata": {},
   "outputs": [
    {
     "name": "stderr",
     "output_type": "stream",
     "text": [
      "C:\\Users\\92344\\Anaconda3\\lib\\site-packages\\ipykernel_launcher.py:1: UserWarning: Update your `Dense` call to the Keras 2 API: `Dense(activation=\"relu\", units=128)`\n",
      "  \"\"\"Entry point for launching an IPython kernel.\n",
      "C:\\Users\\92344\\Anaconda3\\lib\\site-packages\\ipykernel_launcher.py:2: UserWarning: Update your `Dense` call to the Keras 2 API: `Dense(activation=\"sigmoid\", units=1)`\n",
      "  \n",
      "W0927 16:53:21.016360 10732 deprecation_wrapper.py:119] From C:\\Users\\92344\\Anaconda3\\lib\\site-packages\\keras\\optimizers.py:793: The name tf.train.Optimizer is deprecated. Please use tf.compat.v1.train.Optimizer instead.\n",
      "\n",
      "W0927 16:53:21.031363 10732 deprecation_wrapper.py:119] From C:\\Users\\92344\\Anaconda3\\lib\\site-packages\\keras\\backend\\tensorflow_backend.py:3657: The name tf.log is deprecated. Please use tf.math.log instead.\n",
      "\n",
      "W0927 16:53:21.044361 10732 deprecation.py:323] From C:\\Users\\92344\\Anaconda3\\lib\\site-packages\\tensorflow\\python\\ops\\nn_impl.py:180: add_dispatch_support.<locals>.wrapper (from tensorflow.python.ops.array_ops) is deprecated and will be removed in a future version.\n",
      "Instructions for updating:\n",
      "Use tf.where in 2.0, which has the same broadcast rule as np.where\n"
     ]
    }
   ],
   "source": [
    "classifier.add(Dense(output_dim= 128, activation= \"relu\"))\n",
    "classifier.add(Dense(output_dim= 1, activation = \"sigmoid\"))\n",
    "\n",
    "optimizer = keras.optimizers.sgd(lr = 0.1)\n",
    "classifier.compile(loss = \"binary_crossentropy\", optimizer = optimizer, metrics = ['accuracy'])"
   ]
  },
  {
   "cell_type": "code",
   "execution_count": 16,
   "metadata": {},
   "outputs": [
    {
     "name": "stdout",
     "output_type": "stream",
     "text": [
      "Found 14014 images belonging to 23 classes.\n",
      "Found 14014 images belonging to 23 classes.\n"
     ]
    }
   ],
   "source": [
    "train_data= ImageDataGenerator(\n",
    "        rescale= 1.2/255,\n",
    "        rotation_range=20,\n",
    "        width_shift_range=0.2,\n",
    "        height_shift_range=0.2,\n",
    "        shear_range=0.1,\n",
    "        zoom_range=0.1,\n",
    "        horizontal_flip=True)\n",
    "\n",
    "test_data=ImageDataGenerator(rescale=1.2/255)\n",
    "\n",
    "traning_set= train_data.flow_from_directory('DataSet/traning_set',\n",
    "                                           target_size=(64,64),\n",
    "                                           batch_size=16,\n",
    "                                           class_mode=\"binary\")\n",
    "\n",
    "testing_set= train_data.flow_from_directory(\"DataSet/testing_set\",\n",
    "                                           target_size=(64,64),\n",
    "                                           batch_size=16,\n",
    "                                           class_mode=\"binary\")"
   ]
  },
  {
   "cell_type": "code",
   "execution_count": null,
   "metadata": {},
   "outputs": [
    {
     "name": "stderr",
     "output_type": "stream",
     "text": [
      "W0927 16:53:54.947345 10732 deprecation_wrapper.py:119] From C:\\Users\\92344\\Anaconda3\\lib\\site-packages\\keras\\backend\\tensorflow_backend.py:1033: The name tf.assign_add is deprecated. Please use tf.compat.v1.assign_add instead.\n",
      "\n"
     ]
    },
    {
     "name": "stdout",
     "output_type": "stream",
     "text": [
      "Epoch 1/10\n",
      "1000/1000 [==============================] - 2683s 3s/step - loss: -103.7804 - acc: 1.8750e-04 - val_loss: -103.8846 - val_acc: 0.0013\n",
      "Epoch 2/10\n",
      "1000/1000 [==============================] - 1706s 2s/step - loss: -103.7471 - acc: 1.8750e-04 - val_loss: -103.3266 - val_acc: 0.0000e+00\n",
      "Epoch 3/10\n",
      "1000/1000 [==============================] - 1723s 2s/step - loss: -104.0510 - acc: 2.5000e-04 - val_loss: -103.4661 - val_acc: 6.2500e-04\n",
      "Epoch 4/10\n",
      "1000/1000 [==============================] - 1663s 2s/step - loss: -103.7916 - acc: 2.5000e-04 - val_loss: -104.5721 - val_acc: 0.0000e+00\n",
      "Epoch 5/10\n",
      "1000/1000 [==============================] - 1838s 2s/step - loss: -103.9414 - acc: 1.8750e-04 - val_loss: -104.0241 - val_acc: 0.0000e+00\n",
      "Epoch 6/10\n",
      "1000/1000 [==============================] - 2157s 2s/step - loss: -103.8177 - acc: 2.5000e-04 - val_loss: -104.0639 - val_acc: 0.0000e+00\n",
      "Epoch 7/10\n",
      "1000/1000 [==============================] - 1843s 2s/step - loss: -103.9133 - acc: 1.8750e-04 - val_loss: -103.8347 - val_acc: 0.0000e+00\n",
      "Epoch 8/10\n",
      "1000/1000 [==============================] - 2185s 2s/step - loss: -103.8979 - acc: 1.8750e-04 - val_loss: -104.0440 - val_acc: 0.0000e+00\n",
      "Epoch 9/10\n",
      "1000/1000 [==============================] - 1926s 2s/step - loss: -103.8458 - acc: 2.5000e-04 - val_loss: -103.8350 - val_acc: 0.0000e+00\n",
      "Epoch 10/10\n",
      " 644/1000 [==================>...........] - ETA: 11:35 - loss: -103.8896 - acc: 1.9410e-04"
     ]
    }
   ],
   "source": [
    "#traning\n",
    "from IPython.display import display\n",
    "from PIL import Image\n",
    "classifier.fit_generator(traning_set,\n",
    "                        steps_per_epoch=1000,\n",
    "                        epochs=10,\n",
    "                        validation_data=testing_set,\n",
    "                        validation_steps=100)"
   ]
  },
  {
   "cell_type": "markdown",
   "metadata": {},
   "source": [
    "#Testing    "
   ]
  },
  {
   "cell_type": "code",
   "execution_count": 1,
   "metadata": {},
   "outputs": [
    {
     "name": "stderr",
     "output_type": "stream",
     "text": [
      "Using TensorFlow backend.\n"
     ]
    },
    {
     "ename": "NameError",
     "evalue": "name 'classifier' is not defined",
     "output_type": "error",
     "traceback": [
      "\u001b[1;31m---------------------------------------------------------------------------\u001b[0m",
      "\u001b[1;31mNameError\u001b[0m                                 Traceback (most recent call last)",
      "\u001b[1;32m<ipython-input-1-59adc3335559>\u001b[0m in \u001b[0;36m<module>\u001b[1;34m\u001b[0m\n\u001b[0;32m      4\u001b[0m \u001b[0mtest_image\u001b[0m\u001b[1;33m=\u001b[0m\u001b[0mimage\u001b[0m\u001b[1;33m.\u001b[0m\u001b[0mimg_to_array\u001b[0m\u001b[1;33m(\u001b[0m\u001b[0mtest_image\u001b[0m\u001b[1;33m)\u001b[0m\u001b[1;33m\u001b[0m\u001b[1;33m\u001b[0m\u001b[0m\n\u001b[0;32m      5\u001b[0m \u001b[0mtest_image\u001b[0m\u001b[1;33m=\u001b[0m\u001b[0mnp\u001b[0m\u001b[1;33m.\u001b[0m\u001b[0mexpand_dims\u001b[0m\u001b[1;33m(\u001b[0m\u001b[0mtest_image\u001b[0m\u001b[1;33m,\u001b[0m \u001b[0maxis\u001b[0m\u001b[1;33m=\u001b[0m\u001b[1;36m0\u001b[0m\u001b[1;33m)\u001b[0m\u001b[1;33m\u001b[0m\u001b[1;33m\u001b[0m\u001b[0m\n\u001b[1;32m----> 6\u001b[1;33m \u001b[0mresult\u001b[0m\u001b[1;33m=\u001b[0m\u001b[0mclassifier\u001b[0m\u001b[1;33m.\u001b[0m\u001b[0mpredict\u001b[0m\u001b[1;33m(\u001b[0m\u001b[0mtest_image\u001b[0m\u001b[1;33m)\u001b[0m\u001b[1;33m\u001b[0m\u001b[1;33m\u001b[0m\u001b[0m\n\u001b[0m\u001b[0;32m      7\u001b[0m \u001b[0mtraning_set\u001b[0m\u001b[1;33m.\u001b[0m\u001b[0mclass_indices\u001b[0m\u001b[1;33m\u001b[0m\u001b[1;33m\u001b[0m\u001b[0m\n\u001b[0;32m      8\u001b[0m \u001b[1;32mif\u001b[0m \u001b[0mresult\u001b[0m\u001b[1;33m[\u001b[0m\u001b[1;36m0\u001b[0m\u001b[1;33m]\u001b[0m\u001b[1;33m[\u001b[0m\u001b[1;36m0\u001b[0m\u001b[1;33m]\u001b[0m\u001b[1;33m>=\u001b[0m\u001b[1;36m1\u001b[0m\u001b[1;33m:\u001b[0m\u001b[1;33m\u001b[0m\u001b[1;33m\u001b[0m\u001b[0m\n",
      "\u001b[1;31mNameError\u001b[0m: name 'classifier' is not defined"
     ]
    }
   ],
   "source": [
    "\n",
    "import numpy as np \n",
    "from keras.preprocessing import image \n",
    "test_image=image.load_img(\"DataSet/testing_set/Ahmed/Ahmed.0.JPG\", target_size=(64,64)) \n",
    "test_image=image.img_to_array(test_image) \n",
    "test_image=np.expand_dims(test_image, axis=0) \n",
    "result=classifier.predict(test_image) \n",
    "traning_set.class_indices \n",
    "if result[0][0]>=1:\n",
    "    prediction=\"Ahmed\" \n",
    "else: \n",
    "    prediction=\"Ahsan\" \n",
    "print(prediction)"
   ]
  },
  {
   "cell_type": "code",
   "execution_count": null,
   "metadata": {},
   "outputs": [],
   "source": []
  },
  {
   "cell_type": "code",
   "execution_count": null,
   "metadata": {},
   "outputs": [],
   "source": []
  }
 ],
 "metadata": {
  "kernelspec": {
   "display_name": "Python 3",
   "language": "python",
   "name": "python3"
  },
  "language_info": {
   "codemirror_mode": {
    "name": "ipython",
    "version": 3
   },
   "file_extension": ".py",
   "mimetype": "text/x-python",
   "name": "python",
   "nbconvert_exporter": "python",
   "pygments_lexer": "ipython3",
   "version": "3.7.3"
  }
 },
 "nbformat": 4,
 "nbformat_minor": 2
}
