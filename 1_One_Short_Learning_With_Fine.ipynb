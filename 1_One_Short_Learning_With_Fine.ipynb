{
  "nbformat": 4,
  "nbformat_minor": 0,
  "metadata": {
    "colab": {
      "name": "1-One_Short_Learning_With_Fine",
      "provenance": [],
      "collapsed_sections": []
    },
    "kernelspec": {
      "name": "python3",
      "display_name": "Python 3"
    }
  },
  "cells": [
    {
      "cell_type": "code",
      "metadata": {
        "id": "NpT18W7Ggl4b",
        "colab_type": "code",
        "outputId": "0560c467-dc4b-4cff-bf64-49b882f3f3c4",
        "colab": {
          "base_uri": "https://localhost:8080/",
          "height": 122
        }
      },
      "source": [
        "from google.colab import drive\n",
        "drive.mount('/content/drive')"
      ],
      "execution_count": 0,
      "outputs": [
        {
          "output_type": "stream",
          "text": [
            "Go to this URL in a browser: https://accounts.google.com/o/oauth2/auth?client_id=947318989803-6bn6qk8qdgf4n4g3pfee6491hc0brc4i.apps.googleusercontent.com&redirect_uri=urn%3aietf%3awg%3aoauth%3a2.0%3aoob&response_type=code&scope=email%20https%3a%2f%2fwww.googleapis.com%2fauth%2fdocs.test%20https%3a%2f%2fwww.googleapis.com%2fauth%2fdrive%20https%3a%2f%2fwww.googleapis.com%2fauth%2fdrive.photos.readonly%20https%3a%2f%2fwww.googleapis.com%2fauth%2fpeopleapi.readonly\n",
            "\n",
            "Enter your authorization code:\n",
            "··········\n",
            "Mounted at /content/drive\n"
          ],
          "name": "stdout"
        }
      ]
    },
    {
      "cell_type": "code",
      "metadata": {
        "id": "Z6kpwRVpgrP_",
        "colab_type": "code",
        "colab": {}
      },
      "source": [
        "import sys\n",
        "import numpy as np\n",
        "import imageio\n",
        "import os\n",
        "import matplotlib.pyplot as plt\n",
        "import tensorflow as tf\n",
        "import keras \n",
        "import cv2\n",
        "from sklearn.utils import shuffle\n"
      ],
      "execution_count": 0,
      "outputs": []
    },
    {
      "cell_type": "code",
      "metadata": {
        "id": "rhW9_F0ng4mo",
        "colab_type": "code",
        "colab": {}
      },
      "source": [
        "import random\n",
        "random.seed(2) # Python\n",
        "np.random.seed(1) #numpy\n",
        "from tensorflow import set_random_seed\n",
        "set_random_seed(3) # Tensorflow"
      ],
      "execution_count": 0,
      "outputs": []
    },
    {
      "cell_type": "code",
      "metadata": {
        "id": "re3ghxQHg4_G",
        "colab_type": "code",
        "colab": {}
      },
      "source": [
        "\n",
        "\n",
        "#The path to the  data\n",
        "root_path = \"./drive/My Drive/DataSet150\"\n",
        "train_path = os.path.join(root_path,'Traning') \n",
        "validation_path = os.path.join(root_path,'Evalution')\n",
        "\n",
        "def load_image(path, n = 0):\n",
        "    X = []\n",
        "    \n",
        "    #Load every alphabet seperately and place that in one tensor\n",
        "    for alphabet in os.listdir(path):\n",
        "#         print(\"Loading Alphabet: \" + alphabet)\n",
        "        alphabet_path = os.path.join(path, alphabet)\n",
        "       \n",
        "        category_images = []\n",
        "            \n",
        "        if not os.path.isdir(alphabet_path):\n",
        "                continue\n",
        "            \n",
        "            #Read evey image with in the directory\n",
        "        for filename in os.listdir(alphabet_path):\n",
        "                image_path = os.path.join(alphabet_path, filename)\n",
        "                image = imageio.imread(image_path)\n",
        "                width = 150\n",
        "                height = 150 # keep original height\n",
        "                dim = (height,width)\n",
        " \n",
        "                # resize image\n",
        "                image = cv2.resize(image, dim)\n",
        "                image=cv2.cvtColor(image, cv2.COLOR_BGR2GRAY)\n",
        "                image= np.expand_dims(image, axis=0)\n",
        "#                 print(image_path)\n",
        "                #Image preprocessing\n",
        "                image = image/255\n",
        "                image = 1 - image\n",
        "                \n",
        "                X.append(image)\n",
        "                \n",
        "        \n",
        "    X = np.stack(X)\n",
        "    return X"
      ],
      "execution_count": 0,
      "outputs": []
    },
    {
      "cell_type": "code",
      "metadata": {
        "id": "LTkpt7Stg_nF",
        "colab_type": "code",
        "outputId": "7093bcea-8e03-423a-97c8-1649c9e168ca",
        "colab": {
          "base_uri": "https://localhost:8080/",
          "height": 51
        }
      },
      "source": [
        "print(\"Loading Training Set\")\n",
        "Xtrain = load_image(train_path)\n",
        "print(Xtrain.shape)\n"
      ],
      "execution_count": 0,
      "outputs": [
        {
          "output_type": "stream",
          "text": [
            "Loading Training Set\n",
            "(801, 1, 150, 150)\n"
          ],
          "name": "stdout"
        }
      ]
    },
    {
      "cell_type": "code",
      "metadata": {
        "id": "V_hsas0RhDB-",
        "colab_type": "code",
        "outputId": "7713ddd2-5f7d-4670-cc80-a328220f291f",
        "colab": {
          "base_uri": "https://localhost:8080/",
          "height": 51
        }
      },
      "source": [
        "print(\"Now loading evaluation set\")\n",
        "Xval = load_image(validation_path)\n",
        "print(Xval.shape)"
      ],
      "execution_count": 0,
      "outputs": [
        {
          "output_type": "stream",
          "text": [
            "Now loading evaluation set\n",
            "(764, 1, 150, 150)\n"
          ],
          "name": "stdout"
        }
      ]
    },
    {
      "cell_type": "code",
      "metadata": {
        "id": "BBCD3WvBhFRP",
        "colab_type": "code",
        "colab": {}
      },
      "source": [
        "def get_batch(data, batch_size):\n",
        "    n_classes, n_examples, h, w = data.shape\n",
        "    \n",
        "    pairs = [np.zeros((batch_size, 1, h, w)) for i in range(2)]\n",
        "    \n",
        "    targets = np.zeros((batch_size,))\n",
        "    targets[batch_size//2:] = 1\n",
        "    \n",
        "    categories = np.random.choice(n_classes, size = (batch_size), replace = False)\n",
        "    \n",
        "    for i in range(batch_size):\n",
        "        category = categories[i]\n",
        "        \n",
        "        idx1 = np.random.randint(0, n_examples)\n",
        "        pairs[0][i,:,:,:] = data[category, idx1].reshape(1, h,w)\n",
        "        idx2 = np.random.randint(0, n_examples)\n",
        "        \n",
        "        if targets[i] == 0:\n",
        "            category_2 = category\n",
        "        else:\n",
        "            category_2 = (category + np.random.randint(1, n_classes)) % n_classes\n",
        " \n",
        "        \n",
        "        pairs[1][i,:,:,:] = data[category_2, idx2].reshape(1, h, w)\n",
        "        \n",
        "    return pairs, targets"
      ],
      "execution_count": 0,
      "outputs": []
    },
    {
      "cell_type": "code",
      "metadata": {
        "id": "o92IhAzrjc-5",
        "colab_type": "code",
        "colab": {}
      },
      "source": [
        "def generate(data,batch_size):\n",
        "        \"\"\"a generator for batches, so model.fit_generator can be used. \"\"\"\n",
        "        while True:\n",
        "            pairs, targets = get_batch(Xtrain,batch_size)\n",
        "            yield (pairs, targets)"
      ],
      "execution_count": 0,
      "outputs": []
    },
    {
      "cell_type": "code",
      "metadata": {
        "id": "tkLAu35jjhp6",
        "colab_type": "code",
        "colab": {}
      },
      "source": [
        "def make_oneshot_task(N,data,language=None):\n",
        "        \"\"\"Create pairs of test image, support set for testing N way one-shot learning. \"\"\"\n",
        "        n_classes, n_examples, w, h = data.shape\n",
        "        indices = np.random.randint(0,n_examples,size=(N,))\n",
        "        categories = np.random.choice(range(n_classes),size=(N,),replace=False)            \n",
        "        true_category = categories[0]\n",
        "        ex1 = np.random.randint(0, n_examples)\n",
        "        ex2 = np.random.randint(0, n_examples)\n",
        "        # ex1, ex2 = np.random.choice(n_examples,replace=False,size=(0,))\n",
        "        test_image = np.asarray([data[true_category,ex1,:,:]]*N).reshape(N, 1, w,h)\n",
        "        support_set = data[categories,indices,:,:]\n",
        "        support_set[0,:,:] = data[true_category,ex2]\n",
        "        support_set = support_set.reshape(N, 1, w,h)\n",
        "        targets = np.zeros((N,))\n",
        "        targets[0] = 1\n",
        "        targets, test_image, support_set = shuffle(targets, test_image, support_set)\n",
        "        pairs = [test_image,support_set]\n",
        "\n",
        "        return pairs, targets"
      ],
      "execution_count": 0,
      "outputs": []
    },
    {
      "cell_type": "code",
      "metadata": {
        "id": "cFf8wFM2jk3V",
        "colab_type": "code",
        "colab": {}
      },
      "source": [
        "def test_oneshot(model,N,k,data,verbose=0):\n",
        "        \"\"\"Test average N way oneshot learning accuracy of a siamese neural net over k one-shot tasks\"\"\"\n",
        "        n_correct = 0\n",
        "        if verbose:\n",
        "            print(\"Evaluating model on {} random {} way one-shot learning tasks ...\".format(k,N))\n",
        "        for i in range(k):\n",
        "            inputs, targets = make_oneshot_task(N,data)\n",
        "            probs = model.predict(inputs)\n",
        "            if np.argmax(probs) == np.argmax(targets):\n",
        "                n_correct+=1\n",
        "        percent_correct = (100.0*n_correct / k)\n",
        "        if verbose:\n",
        "            print(\"Got an average of {}% {} way one-shot learning accuracy\".format(percent_correct,N))\n",
        "        return percent_correct"
      ],
      "execution_count": 0,
      "outputs": []
    },
    {
      "cell_type": "code",
      "metadata": {
        "id": "JyxO8Z4HjrBa",
        "colab_type": "code",
        "colab": {}
      },
      "source": [
        "def train(model, epochs, verbosity):\n",
        "        model.fit_generator(self.generate(batch_size),)"
      ],
      "execution_count": 0,
      "outputs": []
    },
    {
      "cell_type": "code",
      "metadata": {
        "id": "KypD81vxjwbL",
        "colab_type": "code",
        "colab": {}
      },
      "source": [
        "\n",
        "from keras.models import Model, load_model\n",
        "from keras.layers import Conv2D, MaxPooling2D, Flatten, Dropout, Dense, Input, Lambda\n",
        "from keras.layers.core import Lambda, RepeatVector, Reshape\n",
        "from keras.layers.merge import concatenate\n",
        "from keras.optimizers import Adam\n",
        "from keras.regularizers import l2\n",
        "from keras import backend as K\n",
        "from keras.models import Model, load_model\n",
        "from keras.layers import Input\n",
        "from keras.layers.core import Lambda, RepeatVector, Reshape\n",
        "from keras.layers.convolutional import Conv2D, Conv2DTranspose\n",
        "from keras.layers.pooling import MaxPooling2D\n",
        "from keras.layers.merge import concatenate\n",
        "from keras.callbacks import EarlyStopping, ModelCheckpoint, ReduceLROnPlateau\n",
        "from keras import backend as K"
      ],
      "execution_count": 0,
      "outputs": []
    },
    {
      "cell_type": "code",
      "metadata": {
        "id": "g3N2Ykfkjzxu",
        "colab_type": "code",
        "colab": {}
      },
      "source": [
        "#Contrastive Loss\n",
        "def euclid_dist(input_pair):\n",
        "    x, y = input_pair\n",
        "    distance = K.sqrt(K.maximum(K.sum(K.square(x - y), axis=-1, keepdims=True), K.epsilon()))\n",
        "    return distance\n",
        "\n",
        "def euclid_dist_shape(shapes):\n",
        "    shape1, shape2 = shapes\n",
        "    return (shape1[0],1)\n",
        "\n",
        "def contrastive_loss(y_true, y_pred):\n",
        "    margin = 1\n",
        "    y_true = -1 * y_true + 1\n",
        "    return K.mean((1-y_true) * K.square(y_pred) + y_true *  K.square(K.maximum(margin - y_pred, 0.0)))\n",
        "\n",
        "def acc(y_true, y_pred):\n",
        "    ones = K.ones_like(y_pred)\n",
        "    return K.mean(K.equal(y_true, ones - K.clip(K.round(y_pred), 0, 1)), axis=1)\n"
      ],
      "execution_count": 0,
      "outputs": []
    },
    {
      "cell_type": "code",
      "metadata": {
        "id": "eSZIvvwClfnU",
        "colab_type": "code",
        "colab": {}
      },
      "source": [
        ""
      ],
      "execution_count": 0,
      "outputs": []
    },
    {
      "cell_type": "code",
      "metadata": {
        "id": "XS2DGoWxlg-O",
        "colab_type": "code",
        "colab": {}
      },
      "source": [
        ""
      ],
      "execution_count": 0,
      "outputs": []
    },
    {
      "cell_type": "code",
      "metadata": {
        "id": "zLhUiuHYj3Q-",
        "colab_type": "code",
        "colab": {}
      },
      "source": [
        "im_width  =150\n",
        "im_height =150\n",
        "im_chan   =1 "
      ],
      "execution_count": 0,
      "outputs": []
    },
    {
      "cell_type": "code",
      "metadata": {
        "id": "xa9X_V44liEH",
        "colab_type": "code",
        "colab": {}
      },
      "source": [
        ""
      ],
      "execution_count": 0,
      "outputs": []
    },
    {
      "cell_type": "code",
      "metadata": {
        "id": "oWr1ZK_Nj78S",
        "colab_type": "code",
        "outputId": "64ac84d8-d289-49b9-d5e5-82386bb4be14",
        "colab": {
          "base_uri": "https://localhost:8080/",
          "height": 377
        }
      },
      "source": [
        "\n",
        "input_img =Input(( im_chan,im_height,im_width ), name='img')\n",
        "\n",
        "# print(input_img)\n",
        "# Down Block 1\n",
        "c1 = Conv2D(32,(1,1), activation='relu', kernel_regularizer=l2(2e-4) )(input_img)\n",
        "p1 = MaxPooling2D(data_format=\"channels_first\") (c1)\n",
        "\n",
        "#Down Block 2\n",
        "c2 = Conv2D(128, (1, 1), activation='relu', kernel_regularizer=l2(2e-4)) (p1)\n",
        "p2 = MaxPooling2D(data_format=\"channels_first\") (c2)\n",
        "\n",
        "#Down Block 3\n",
        "c3 = Conv2D(128, (1, 1), activation='relu', kernel_regularizer=l2(2e-4)) (p2)\n",
        "p3 = MaxPooling2D(data_format=\"channels_first\") (c3)\n",
        "\n",
        "#Down Block 4\n",
        "c4 = Conv2D(256, (1, 1), activation='relu', kernel_regularizer=l2(2e-4)) (p3)\n",
        "p4 = MaxPooling2D(data_format=\"channels_first\") (c4)\n",
        "# # print(p4)\n",
        "flat = Flatten()(p4)\n",
        "output = Dense(100, activation='sigmoid')(flat)\n",
        "\n",
        "# Instantiate the Model\n",
        "model = Model(input_img, output)\n",
        "\n",
        "input1 = Input(shape = (1,150,150))\n",
        "input2 = Input(shape = (1,150,150))\n",
        "\n",
        "output1 = model(input1)\n",
        "output2 = model(input2)\n",
        "\n",
        "\n",
        "distance = Lambda(euclid_dist, output_shape=euclid_dist_shape)([output1, output2])\n",
        "\n",
        "prediction = Dense(1, activation='sigmoid')(distance)\n",
        "    \n",
        "siamese = Model(inputs=[input1, input2], outputs=prediction)\n",
        "    \n",
        "optimizer = 'adam'\n",
        "    \n",
        "siamese.compile(loss=contrastive_loss, optimizer=optimizer, metrics=[acc])\n",
        "\n",
        "siamese.summary()"
      ],
      "execution_count": 0,
      "outputs": [
        {
          "output_type": "stream",
          "text": [
            "Model: \"model_26\"\n",
            "__________________________________________________________________________________________________\n",
            "Layer (type)                    Output Shape         Param #     Connected to                     \n",
            "==================================================================================================\n",
            "input_28 (InputLayer)           (None, 1, 150, 150)  0                                            \n",
            "__________________________________________________________________________________________________\n",
            "input_29 (InputLayer)           (None, 1, 150, 150)  0                                            \n",
            "__________________________________________________________________________________________________\n",
            "model_25 (Model)                (None, 100)          2127524     input_28[0][0]                   \n",
            "                                                                 input_29[0][0]                   \n",
            "__________________________________________________________________________________________________\n",
            "lambda_12 (Lambda)              (None, 1)            0           model_25[1][0]                   \n",
            "                                                                 model_25[2][0]                   \n",
            "__________________________________________________________________________________________________\n",
            "dense_29 (Dense)                (None, 1)            2           lambda_12[0][0]                  \n",
            "==================================================================================================\n",
            "Total params: 2,127,526\n",
            "Trainable params: 2,127,526\n",
            "Non-trainable params: 0\n",
            "__________________________________________________________________________________________________\n"
          ],
          "name": "stdout"
        }
      ]
    },
    {
      "cell_type": "code",
      "metadata": {
        "id": "wH_ahVeFkCOf",
        "colab_type": "code",
        "outputId": "488df888-1f51-4919-bd4a-61279a39fa35",
        "colab": {
          "base_uri": "https://localhost:8080/",
          "height": 1000
        }
      },
      "source": [
        "#Training loop\n",
        "print(\"!\")\n",
        "evaluate_every = 1 # interval for evaluating on one-shot tasks\n",
        "loss_every=50 # interval for printing loss (iterations)\n",
        "batch_size = 32\n",
        "n_iter = 30\n",
        "N_way = 50 # how many classes for testing one-shot tasks>\n",
        "n_val = 30 #how mahy one-shot tasks to validate on?\n",
        "best = -1\n",
        "weights_path = \"weights\"\n",
        "print(\"training\")\n",
        "for i in range(1, n_iter):\n",
        "    (inputs,targets)=get_batch(Xtrain,batch_size)\n",
        "    loss=siamese.train_on_batch(inputs,targets)\n",
        "    print(loss)\n",
        "    if i % evaluate_every == 0:\n",
        "        print(\"evaluating\")\n",
        "        val_acc = test_oneshot(siamese,N_way,n_val,Xval,verbose=True)\n",
        "        if val_acc >= best:\n",
        "            print(\"saving\")\n",
        "            siamese.save(weights_path)\n",
        "            best=val_acc\n",
        "\n",
        "    if i % loss_every == 0:\n",
        "        print(\"iteration {}, training loss: {:.2f},\".format(i,loss))"
      ],
      "execution_count": 0,
      "outputs": [
        {
          "output_type": "stream",
          "text": [
            "!\n",
            "training\n",
            "[0.31418765, 0.5]\n",
            "evaluating\n",
            "Evaluating model on 30 random 50 way one-shot learning tasks ...\n",
            "Got an average of 100.0% 50 way one-shot learning accuracy\n",
            "saving\n",
            "[0.29304472, 1.0]\n",
            "evaluating\n",
            "Evaluating model on 30 random 50 way one-shot learning tasks ...\n",
            "Got an average of 90.0% 50 way one-shot learning accuracy\n",
            "[0.26938364, 1.0]\n",
            "evaluating\n",
            "Evaluating model on 30 random 50 way one-shot learning tasks ...\n",
            "Got an average of 96.66666666666667% 50 way one-shot learning accuracy\n",
            "[0.24972977, 1.0]\n",
            "evaluating\n",
            "Evaluating model on 30 random 50 way one-shot learning tasks ...\n",
            "Got an average of 90.0% 50 way one-shot learning accuracy\n",
            "[0.22977228, 1.0]\n",
            "evaluating\n",
            "Evaluating model on 30 random 50 way one-shot learning tasks ...\n",
            "Got an average of 96.66666666666667% 50 way one-shot learning accuracy\n",
            "[0.23263648, 1.0]\n",
            "evaluating\n",
            "Evaluating model on 30 random 50 way one-shot learning tasks ...\n",
            "Got an average of 93.33333333333333% 50 way one-shot learning accuracy\n",
            "[0.21278359, 0.96875]\n",
            "evaluating\n",
            "Evaluating model on 30 random 50 way one-shot learning tasks ...\n",
            "Got an average of 100.0% 50 way one-shot learning accuracy\n",
            "saving\n",
            "[0.20211689, 1.0]\n",
            "evaluating\n",
            "Evaluating model on 30 random 50 way one-shot learning tasks ...\n",
            "Got an average of 100.0% 50 way one-shot learning accuracy\n",
            "saving\n",
            "[0.20774525, 1.0]\n",
            "evaluating\n",
            "Evaluating model on 30 random 50 way one-shot learning tasks ...\n",
            "Got an average of 96.66666666666667% 50 way one-shot learning accuracy\n",
            "[0.19076745, 1.0]\n",
            "evaluating\n",
            "Evaluating model on 30 random 50 way one-shot learning tasks ...\n",
            "Got an average of 96.66666666666667% 50 way one-shot learning accuracy\n",
            "[0.19386111, 1.0]\n",
            "evaluating\n",
            "Evaluating model on 30 random 50 way one-shot learning tasks ...\n",
            "Got an average of 96.66666666666667% 50 way one-shot learning accuracy\n",
            "[0.18802434, 1.0]\n",
            "evaluating\n",
            "Evaluating model on 30 random 50 way one-shot learning tasks ...\n",
            "Got an average of 96.66666666666667% 50 way one-shot learning accuracy\n",
            "[0.19057688, 1.0]\n",
            "evaluating\n",
            "Evaluating model on 30 random 50 way one-shot learning tasks ...\n",
            "Got an average of 93.33333333333333% 50 way one-shot learning accuracy\n",
            "[0.19867396, 0.96875]\n",
            "evaluating\n",
            "Evaluating model on 30 random 50 way one-shot learning tasks ...\n",
            "Got an average of 93.33333333333333% 50 way one-shot learning accuracy\n",
            "[0.18297815, 1.0]\n",
            "evaluating\n",
            "Evaluating model on 30 random 50 way one-shot learning tasks ...\n",
            "Got an average of 100.0% 50 way one-shot learning accuracy\n",
            "saving\n",
            "[0.18623689, 1.0]\n",
            "evaluating\n",
            "Evaluating model on 30 random 50 way one-shot learning tasks ...\n",
            "Got an average of 96.66666666666667% 50 way one-shot learning accuracy\n",
            "[0.18139732, 1.0]\n",
            "evaluating\n",
            "Evaluating model on 30 random 50 way one-shot learning tasks ...\n",
            "Got an average of 93.33333333333333% 50 way one-shot learning accuracy\n",
            "[0.18052149, 1.0]\n",
            "evaluating\n",
            "Evaluating model on 30 random 50 way one-shot learning tasks ...\n",
            "Got an average of 96.66666666666667% 50 way one-shot learning accuracy\n",
            "[0.17875652, 1.0]\n",
            "evaluating\n",
            "Evaluating model on 30 random 50 way one-shot learning tasks ...\n",
            "Got an average of 86.66666666666667% 50 way one-shot learning accuracy\n",
            "[0.17724161, 1.0]\n",
            "evaluating\n",
            "Evaluating model on 30 random 50 way one-shot learning tasks ...\n",
            "Got an average of 96.66666666666667% 50 way one-shot learning accuracy\n",
            "[0.17803708, 1.0]\n",
            "evaluating\n",
            "Evaluating model on 30 random 50 way one-shot learning tasks ...\n",
            "Got an average of 86.66666666666667% 50 way one-shot learning accuracy\n",
            "[0.17510876, 1.0]\n",
            "evaluating\n",
            "Evaluating model on 30 random 50 way one-shot learning tasks ...\n",
            "Got an average of 96.66666666666667% 50 way one-shot learning accuracy\n",
            "[0.17397483, 1.0]\n",
            "evaluating\n",
            "Evaluating model on 30 random 50 way one-shot learning tasks ...\n",
            "Got an average of 96.66666666666667% 50 way one-shot learning accuracy\n",
            "[0.1778443, 1.0]\n",
            "evaluating\n",
            "Evaluating model on 30 random 50 way one-shot learning tasks ...\n",
            "Got an average of 96.66666666666667% 50 way one-shot learning accuracy\n",
            "[0.17160726, 1.0]\n",
            "evaluating\n",
            "Evaluating model on 30 random 50 way one-shot learning tasks ...\n",
            "Got an average of 100.0% 50 way one-shot learning accuracy\n",
            "saving\n",
            "[0.17083646, 1.0]\n",
            "evaluating\n",
            "Evaluating model on 30 random 50 way one-shot learning tasks ...\n",
            "Got an average of 100.0% 50 way one-shot learning accuracy\n",
            "saving\n",
            "[0.1699087, 1.0]\n",
            "evaluating\n",
            "Evaluating model on 30 random 50 way one-shot learning tasks ...\n",
            "Got an average of 90.0% 50 way one-shot learning accuracy\n",
            "[0.16928817, 1.0]\n",
            "evaluating\n",
            "Evaluating model on 30 random 50 way one-shot learning tasks ...\n",
            "Got an average of 96.66666666666667% 50 way one-shot learning accuracy\n",
            "[0.16811746, 1.0]\n",
            "evaluating\n",
            "Evaluating model on 30 random 50 way one-shot learning tasks ...\n",
            "Got an average of 93.33333333333333% 50 way one-shot learning accuracy\n"
          ],
          "name": "stdout"
        }
      ]
    },
    {
      "cell_type": "code",
      "metadata": {
        "id": "OaBasaGFkLr-",
        "colab_type": "code",
        "outputId": "0d25c6ad-c3ff-4973-861a-c63a13011017",
        "colab": {
          "base_uri": "https://localhost:8080/",
          "height": 34
        }
      },
      "source": [
        "from keras.applications import VGG16\n",
        "from keras import backend\n",
        "# force channels-last ordering\n",
        "backend.set_image_data_format('channels_first')\n",
        "print(backend.image_data_format())\n",
        "vgg = VGG16(weights=\"imagenet\", include_top=False,\n",
        "\tinput_tensor=Input(shape=(3, 150, 150)))\n",
        "\n",
        "# output = vgg.layers[-1].output\n",
        "# output = keras.layers.Flatten()(output)\n",
        "# vgg_model = Model(vgg.input, output)\n",
        "\n",
        "# vgg_model.trainable = False\n",
        "# for layer in vgg_model.layers:\n",
        "#     layer.trainable = False"
      ],
      "execution_count": 0,
      "outputs": [
        {
          "output_type": "stream",
          "text": [
            "channels_first\n"
          ],
          "name": "stdout"
        }
      ]
    },
    {
      "cell_type": "code",
      "metadata": {
        "id": "xpdAYznXj7so",
        "colab_type": "code",
        "outputId": "fa25f62d-152f-49f4-87c4-b2cec9f6a4ec",
        "colab": {
          "base_uri": "https://localhost:8080/",
          "height": 1000
        }
      },
      "source": [
        "\n",
        "import pandas as pd\n",
        "pd.set_option('max_colwidth', -1)\n",
        "layers = [(layer, layer.name, layer.trainable) for layer in vgg_model.layers]\n",
        "pd.DataFrame(layers, columns=['Layer Type', 'Layer Name', 'Layer Trainable']) "
      ],
      "execution_count": 0,
      "outputs": [
        {
          "output_type": "execute_result",
          "data": {
            "text/html": [
              "<div>\n",
              "<style scoped>\n",
              "    .dataframe tbody tr th:only-of-type {\n",
              "        vertical-align: middle;\n",
              "    }\n",
              "\n",
              "    .dataframe tbody tr th {\n",
              "        vertical-align: top;\n",
              "    }\n",
              "\n",
              "    .dataframe thead th {\n",
              "        text-align: right;\n",
              "    }\n",
              "</style>\n",
              "<table border=\"1\" class=\"dataframe\">\n",
              "  <thead>\n",
              "    <tr style=\"text-align: right;\">\n",
              "      <th></th>\n",
              "      <th>Layer Type</th>\n",
              "      <th>Layer Name</th>\n",
              "      <th>Layer Trainable</th>\n",
              "    </tr>\n",
              "  </thead>\n",
              "  <tbody>\n",
              "    <tr>\n",
              "      <th>0</th>\n",
              "      <td>&lt;keras.engine.input_layer.InputLayer object at 0x7f4e83582978&gt;</td>\n",
              "      <td>input_13</td>\n",
              "      <td>False</td>\n",
              "    </tr>\n",
              "    <tr>\n",
              "      <th>1</th>\n",
              "      <td>&lt;keras.layers.convolutional.Conv2D object at 0x7f4e835823c8&gt;</td>\n",
              "      <td>block1_conv1</td>\n",
              "      <td>False</td>\n",
              "    </tr>\n",
              "    <tr>\n",
              "      <th>2</th>\n",
              "      <td>&lt;keras.layers.convolutional.Conv2D object at 0x7f4e83195eb8&gt;</td>\n",
              "      <td>block1_conv2</td>\n",
              "      <td>False</td>\n",
              "    </tr>\n",
              "    <tr>\n",
              "      <th>3</th>\n",
              "      <td>&lt;keras.layers.pooling.MaxPooling2D object at 0x7f4e831975f8&gt;</td>\n",
              "      <td>block1_pool</td>\n",
              "      <td>False</td>\n",
              "    </tr>\n",
              "    <tr>\n",
              "      <th>4</th>\n",
              "      <td>&lt;keras.layers.convolutional.Conv2D object at 0x7f4e83198a20&gt;</td>\n",
              "      <td>block2_conv1</td>\n",
              "      <td>False</td>\n",
              "    </tr>\n",
              "    <tr>\n",
              "      <th>5</th>\n",
              "      <td>&lt;keras.layers.convolutional.Conv2D object at 0x7f4e831a0198&gt;</td>\n",
              "      <td>block2_conv2</td>\n",
              "      <td>False</td>\n",
              "    </tr>\n",
              "    <tr>\n",
              "      <th>6</th>\n",
              "      <td>&lt;keras.layers.pooling.MaxPooling2D object at 0x7f4e82bf93c8&gt;</td>\n",
              "      <td>block2_pool</td>\n",
              "      <td>False</td>\n",
              "    </tr>\n",
              "    <tr>\n",
              "      <th>7</th>\n",
              "      <td>&lt;keras.layers.convolutional.Conv2D object at 0x7f4e82c03f60&gt;</td>\n",
              "      <td>block3_conv1</td>\n",
              "      <td>False</td>\n",
              "    </tr>\n",
              "    <tr>\n",
              "      <th>8</th>\n",
              "      <td>&lt;keras.layers.convolutional.Conv2D object at 0x7f4e82c08b00&gt;</td>\n",
              "      <td>block3_conv2</td>\n",
              "      <td>False</td>\n",
              "    </tr>\n",
              "    <tr>\n",
              "      <th>9</th>\n",
              "      <td>&lt;keras.layers.convolutional.Conv2D object at 0x7f4e82c127f0&gt;</td>\n",
              "      <td>block3_conv3</td>\n",
              "      <td>False</td>\n",
              "    </tr>\n",
              "    <tr>\n",
              "      <th>10</th>\n",
              "      <td>&lt;keras.layers.pooling.MaxPooling2D object at 0x7f4e82c208d0&gt;</td>\n",
              "      <td>block3_pool</td>\n",
              "      <td>False</td>\n",
              "    </tr>\n",
              "    <tr>\n",
              "      <th>11</th>\n",
              "      <td>&lt;keras.layers.convolutional.Conv2D object at 0x7f4e82c2dda0&gt;</td>\n",
              "      <td>block4_conv1</td>\n",
              "      <td>False</td>\n",
              "    </tr>\n",
              "    <tr>\n",
              "      <th>12</th>\n",
              "      <td>&lt;keras.layers.convolutional.Conv2D object at 0x7f4e82c335f8&gt;</td>\n",
              "      <td>block4_conv2</td>\n",
              "      <td>False</td>\n",
              "    </tr>\n",
              "    <tr>\n",
              "      <th>13</th>\n",
              "      <td>&lt;keras.layers.convolutional.Conv2D object at 0x7f4e82bc2438&gt;</td>\n",
              "      <td>block4_conv3</td>\n",
              "      <td>False</td>\n",
              "    </tr>\n",
              "    <tr>\n",
              "      <th>14</th>\n",
              "      <td>&lt;keras.layers.pooling.MaxPooling2D object at 0x7f4e82bcd3c8&gt;</td>\n",
              "      <td>block4_pool</td>\n",
              "      <td>False</td>\n",
              "    </tr>\n",
              "    <tr>\n",
              "      <th>15</th>\n",
              "      <td>&lt;keras.layers.convolutional.Conv2D object at 0x7f4e82bda898&gt;</td>\n",
              "      <td>block5_conv1</td>\n",
              "      <td>False</td>\n",
              "    </tr>\n",
              "    <tr>\n",
              "      <th>16</th>\n",
              "      <td>&lt;keras.layers.convolutional.Conv2D object at 0x7f4e82bdaf98&gt;</td>\n",
              "      <td>block5_conv2</td>\n",
              "      <td>False</td>\n",
              "    </tr>\n",
              "    <tr>\n",
              "      <th>17</th>\n",
              "      <td>&lt;keras.layers.convolutional.Conv2D object at 0x7f4e82be7fd0&gt;</td>\n",
              "      <td>block5_conv3</td>\n",
              "      <td>False</td>\n",
              "    </tr>\n",
              "    <tr>\n",
              "      <th>18</th>\n",
              "      <td>&lt;keras.layers.pooling.MaxPooling2D object at 0x7f4e82bf4470&gt;</td>\n",
              "      <td>block5_pool</td>\n",
              "      <td>False</td>\n",
              "    </tr>\n",
              "    <tr>\n",
              "      <th>19</th>\n",
              "      <td>&lt;keras.layers.core.Flatten object at 0x7f4e82baaef0&gt;</td>\n",
              "      <td>flatten_7</td>\n",
              "      <td>False</td>\n",
              "    </tr>\n",
              "  </tbody>\n",
              "</table>\n",
              "</div>"
            ],
            "text/plain": [
              "                                                        Layer Type  ... Layer Trainable\n",
              "0   <keras.engine.input_layer.InputLayer object at 0x7f4e83582978>  ...  False         \n",
              "1   <keras.layers.convolutional.Conv2D object at 0x7f4e835823c8>    ...  False         \n",
              "2   <keras.layers.convolutional.Conv2D object at 0x7f4e83195eb8>    ...  False         \n",
              "3   <keras.layers.pooling.MaxPooling2D object at 0x7f4e831975f8>    ...  False         \n",
              "4   <keras.layers.convolutional.Conv2D object at 0x7f4e83198a20>    ...  False         \n",
              "5   <keras.layers.convolutional.Conv2D object at 0x7f4e831a0198>    ...  False         \n",
              "6   <keras.layers.pooling.MaxPooling2D object at 0x7f4e82bf93c8>    ...  False         \n",
              "7   <keras.layers.convolutional.Conv2D object at 0x7f4e82c03f60>    ...  False         \n",
              "8   <keras.layers.convolutional.Conv2D object at 0x7f4e82c08b00>    ...  False         \n",
              "9   <keras.layers.convolutional.Conv2D object at 0x7f4e82c127f0>    ...  False         \n",
              "10  <keras.layers.pooling.MaxPooling2D object at 0x7f4e82c208d0>    ...  False         \n",
              "11  <keras.layers.convolutional.Conv2D object at 0x7f4e82c2dda0>    ...  False         \n",
              "12  <keras.layers.convolutional.Conv2D object at 0x7f4e82c335f8>    ...  False         \n",
              "13  <keras.layers.convolutional.Conv2D object at 0x7f4e82bc2438>    ...  False         \n",
              "14  <keras.layers.pooling.MaxPooling2D object at 0x7f4e82bcd3c8>    ...  False         \n",
              "15  <keras.layers.convolutional.Conv2D object at 0x7f4e82bda898>    ...  False         \n",
              "16  <keras.layers.convolutional.Conv2D object at 0x7f4e82bdaf98>    ...  False         \n",
              "17  <keras.layers.convolutional.Conv2D object at 0x7f4e82be7fd0>    ...  False         \n",
              "18  <keras.layers.pooling.MaxPooling2D object at 0x7f4e82bf4470>    ...  False         \n",
              "19  <keras.layers.core.Flatten object at 0x7f4e82baaef0>            ...  False         \n",
              "\n",
              "[20 rows x 3 columns]"
            ]
          },
          "metadata": {
            "tags": []
          },
          "execution_count": 62
        }
      ]
    },
    {
      "cell_type": "code",
      "metadata": {
        "id": "3phxCC47kCYg",
        "colab_type": "code",
        "colab": {}
      },
      "source": [
        "# import glob\n",
        "# import numpy as np\n",
        "# import matplotlib.pyplot as plt\n",
        "# from keras.preprocessing.image import ImageDataGenerator, load_img, img_to_array, array_to_img\n",
        "# IMG_DIM = (150, 150)\n",
        "# train_files = glob.glob('Traning/*')\n",
        "\n",
        "# train_imgs = [img_to_array(load_img(img, target_size=IMG_DIM)) for img in train_files]\n",
        "# train_imgs = np.array(train_imgs)\n",
        "# train_imgs_scaled = train_imgs.astype('float32')\n",
        "\n",
        "# bottleneck_feature_example = vgg.predict(train_imgs_scaled[0:1:2])\n",
        "# print(bottleneck_feature_example.shape)\n",
        "# plt.imshow(bottleneck_feature_example[0][:,:,0])"
      ],
      "execution_count": 0,
      "outputs": []
    },
    {
      "cell_type": "code",
      "metadata": {
        "id": "IO18LFn8rZ2N",
        "colab_type": "code",
        "outputId": "8c98b7d5-1c3f-4b43-d848-07cd7513c9dd",
        "colab": {
          "base_uri": "https://localhost:8080/",
          "height": 799
        }
      },
      "source": [
        "vgg.summary()"
      ],
      "execution_count": 0,
      "outputs": [
        {
          "output_type": "stream",
          "text": [
            "Model: \"vgg16\"\n",
            "_________________________________________________________________\n",
            "Layer (type)                 Output Shape              Param #   \n",
            "=================================================================\n",
            "input_13 (InputLayer)        (None, 3, 150, 150)       0         \n",
            "_________________________________________________________________\n",
            "block1_conv1 (Conv2D)        (None, 64, 150, 150)      1792      \n",
            "_________________________________________________________________\n",
            "block1_conv2 (Conv2D)        (None, 64, 150, 150)      36928     \n",
            "_________________________________________________________________\n",
            "block1_pool (MaxPooling2D)   (None, 64, 75, 75)        0         \n",
            "_________________________________________________________________\n",
            "block2_conv1 (Conv2D)        (None, 128, 75, 75)       73856     \n",
            "_________________________________________________________________\n",
            "block2_conv2 (Conv2D)        (None, 128, 75, 75)       147584    \n",
            "_________________________________________________________________\n",
            "block2_pool (MaxPooling2D)   (None, 128, 37, 37)       0         \n",
            "_________________________________________________________________\n",
            "block3_conv1 (Conv2D)        (None, 256, 37, 37)       295168    \n",
            "_________________________________________________________________\n",
            "block3_conv2 (Conv2D)        (None, 256, 37, 37)       590080    \n",
            "_________________________________________________________________\n",
            "block3_conv3 (Conv2D)        (None, 256, 37, 37)       590080    \n",
            "_________________________________________________________________\n",
            "block3_pool (MaxPooling2D)   (None, 256, 18, 18)       0         \n",
            "_________________________________________________________________\n",
            "block4_conv1 (Conv2D)        (None, 512, 18, 18)       1180160   \n",
            "_________________________________________________________________\n",
            "block4_conv2 (Conv2D)        (None, 512, 18, 18)       2359808   \n",
            "_________________________________________________________________\n",
            "block4_conv3 (Conv2D)        (None, 512, 18, 18)       2359808   \n",
            "_________________________________________________________________\n",
            "block4_pool (MaxPooling2D)   (None, 512, 9, 9)         0         \n",
            "_________________________________________________________________\n",
            "block5_conv1 (Conv2D)        (None, 512, 9, 9)         2359808   \n",
            "_________________________________________________________________\n",
            "block5_conv2 (Conv2D)        (None, 512, 9, 9)         2359808   \n",
            "_________________________________________________________________\n",
            "block5_conv3 (Conv2D)        (None, 512, 9, 9)         2359808   \n",
            "_________________________________________________________________\n",
            "block5_pool (MaxPooling2D)   (None, 512, 4, 4)         0         \n",
            "=================================================================\n",
            "Total params: 14,714,688\n",
            "Trainable params: 0\n",
            "Non-trainable params: 14,714,688\n",
            "_________________________________________________________________\n"
          ],
          "name": "stdout"
        }
      ]
    },
    {
      "cell_type": "code",
      "metadata": {
        "id": "ntRhNwmBbsUU",
        "colab_type": "code",
        "colab": {}
      },
      "source": [
        "\n",
        "# output = vgg.layers[-1].output\n",
        "# output = keras.layers.Flatten()(output)\n",
        "# vgg_model = Model(vgg.input, output)\n",
        "\n",
        "# vgg_model.trainable = False\n",
        "# for layer in vgg_model.layers:\n",
        "#     layer.trainable = False\n",
        "    \n",
        "# import pandas as pd\n",
        "# pd.set_option('max_colwidth', -1)\n",
        "# layers = [(layer, layer.name, layer.trainable) for layer in vgg_model.layers]\n",
        "# pd.DataFrame(layers, columns=['Layer Type', 'Layer Name', 'Layer Trainable'])  "
      ],
      "execution_count": 0,
      "outputs": []
    },
    {
      "cell_type": "code",
      "metadata": {
        "id": "K3wW5bR1tKSD",
        "colab_type": "code",
        "outputId": "cf52a67f-bcb6-46e8-bdf8-bea03ae783d3",
        "colab": {
          "base_uri": "https://localhost:8080/",
          "height": 68
        }
      },
      "source": [
        "import os\n",
        "import numpy as np\n",
        "from keras.preprocessing.image import ImageDataGenerator\n",
        "\n",
        "base_dir = './drive/My Drive/DataSet150'\n",
        "train_dir = os.path.join(base_dir, 'Traning')\n",
        "validation_dir = os.path.join(base_dir, 'Evalution')\n",
        "test_dir = os.path.join(base_dir, 'Testing')\n",
        "datagen = ImageDataGenerator(rescale=1./255)\n",
        "batch_size = 10\n",
        "\n",
        "def extract_features(directory, sample_count):\n",
        "    features = np.zeros(shape=(sample_count,512, 4, 4))\n",
        "    labels = np.zeros(shape=(sample_count))\n",
        "    generator = datagen.flow_from_directory(\n",
        "    directory,\n",
        "    target_size=(150, 150),\n",
        "    batch_size=batch_size,\n",
        "    class_mode='binary')\n",
        "    i=0\n",
        "    for inputs_batch, labels_batch in generator:\n",
        "        features_batch = vgg.predict(inputs_batch)\n",
        "        features[i * batch_size : (i + 1) * batch_size] = features_batch\n",
        "        labels[i * batch_size : (i + 1) * batch_size] = labels_batch\n",
        "        i += 1\n",
        "        if i * batch_size >= sample_count:\n",
        "            break\n",
        "    return features, labels\n",
        "train_features, train_labels = extract_features(train_dir, 700)\n",
        "validation_features, validation_labels = extract_features(validation_dir, 500)\n",
        "test_features, test_labels = extract_features(test_dir, 500)\n",
        "\n",
        "train_features = np.reshape(train_features, (700, 4*4* 512))\n",
        "validation_features = np.reshape(validation_features, (500, 4*4* 512))\n",
        "test_features = np.reshape(test_features, (500, 4*4* 512))\n"
      ],
      "execution_count": 0,
      "outputs": [
        {
          "output_type": "stream",
          "text": [
            "Found 801 images belonging to 22 classes.\n",
            "Found 764 images belonging to 22 classes.\n",
            "Found 764 images belonging to 22 classes.\n"
          ],
          "name": "stdout"
        }
      ]
    },
    {
      "cell_type": "code",
      "metadata": {
        "id": "6H3jv6okvnZ-",
        "colab_type": "code",
        "outputId": "2fc146dc-6f06-434c-9306-5037e384b758",
        "colab": {
          "base_uri": "https://localhost:8080/",
          "height": 1000
        }
      },
      "source": [
        "from keras import models\n",
        "from keras import layers\n",
        "from keras import optimizers \n",
        "from keras.utils import to_categorical\n",
        "import matplotlib.pyplot as plt\n",
        "model = models.Sequential()\n",
        "model.add(layers.Dense(256, activation='relu', input_dim=4 * 4 * 512))\n",
        "model.add(layers.Dropout(0.1))\n",
        "model.add(layers.Dense(22, activation='sigmoid'))\n",
        "model.compile(loss='categorical_crossentropy',optimizer=optimizers.RMSprop(lr=2e-5, rho=0.9),\n",
        "              metrics=['accuracy'])          \n",
        "history = model.fit(train_features,to_categorical(train_labels),\n",
        "epochs=30,\n",
        "batch_size=10,\n",
        "validation_data=(validation_features, to_categorical(validation_labels)))\n"
      ],
      "execution_count": 0,
      "outputs": [
        {
          "output_type": "stream",
          "text": [
            "WARNING:tensorflow:From /usr/local/lib/python3.6/dist-packages/keras/backend/tensorflow_backend.py:148: The name tf.placeholder_with_default is deprecated. Please use tf.compat.v1.placeholder_with_default instead.\n",
            "\n",
            "WARNING:tensorflow:From /usr/local/lib/python3.6/dist-packages/keras/backend/tensorflow_backend.py:3733: calling dropout (from tensorflow.python.ops.nn_ops) with keep_prob is deprecated and will be removed in a future version.\n",
            "Instructions for updating:\n",
            "Please use `rate` instead of `keep_prob`. Rate should be set to `rate = 1 - keep_prob`.\n",
            "WARNING:tensorflow:From /usr/local/lib/python3.6/dist-packages/keras/backend/tensorflow_backend.py:3576: The name tf.log is deprecated. Please use tf.math.log instead.\n",
            "\n",
            "Train on 700 samples, validate on 500 samples\n",
            "Epoch 1/30\n",
            "700/700 [==============================] - 3s 5ms/step - loss: 2.8768 - acc: 0.1657 - val_loss: 2.6365 - val_acc: 0.4260\n",
            "Epoch 2/30\n",
            "700/700 [==============================] - 3s 4ms/step - loss: 2.4246 - acc: 0.5771 - val_loss: 2.1346 - val_acc: 0.8200\n",
            "Epoch 3/30\n",
            "700/700 [==============================] - 3s 4ms/step - loss: 1.8890 - acc: 0.8071 - val_loss: 1.5649 - val_acc: 0.9160\n",
            "Epoch 4/30\n",
            "700/700 [==============================] - 3s 4ms/step - loss: 1.3714 - acc: 0.8843 - val_loss: 1.1024 - val_acc: 0.9220\n",
            "Epoch 5/30\n",
            "700/700 [==============================] - 3s 4ms/step - loss: 1.0054 - acc: 0.9029 - val_loss: 0.7868 - val_acc: 0.9500\n",
            "Epoch 6/30\n",
            "700/700 [==============================] - 3s 4ms/step - loss: 0.7383 - acc: 0.9286 - val_loss: 0.5778 - val_acc: 0.9600\n",
            "Epoch 7/30\n",
            "700/700 [==============================] - 3s 4ms/step - loss: 0.5505 - acc: 0.9486 - val_loss: 0.4507 - val_acc: 0.9620\n",
            "Epoch 8/30\n",
            "700/700 [==============================] - 3s 4ms/step - loss: 0.4272 - acc: 0.9671 - val_loss: 0.3632 - val_acc: 0.9640\n",
            "Epoch 9/30\n",
            "700/700 [==============================] - 3s 4ms/step - loss: 0.3300 - acc: 0.9771 - val_loss: 0.3021 - val_acc: 0.9660\n",
            "Epoch 10/30\n",
            "700/700 [==============================] - 3s 4ms/step - loss: 0.2747 - acc: 0.9771 - val_loss: 0.2620 - val_acc: 0.9700\n",
            "Epoch 11/30\n",
            "700/700 [==============================] - 3s 4ms/step - loss: 0.2297 - acc: 0.9843 - val_loss: 0.2269 - val_acc: 0.9760\n",
            "Epoch 12/30\n",
            "700/700 [==============================] - 3s 4ms/step - loss: 0.1797 - acc: 0.9857 - val_loss: 0.2015 - val_acc: 0.9680\n",
            "Epoch 13/30\n",
            "700/700 [==============================] - 3s 4ms/step - loss: 0.1486 - acc: 0.9814 - val_loss: 0.1773 - val_acc: 0.9740\n",
            "Epoch 14/30\n",
            "700/700 [==============================] - 3s 4ms/step - loss: 0.1165 - acc: 0.9957 - val_loss: 0.1636 - val_acc: 0.9720\n",
            "Epoch 15/30\n",
            "700/700 [==============================] - 3s 4ms/step - loss: 0.0919 - acc: 0.9986 - val_loss: 0.1484 - val_acc: 0.9720\n",
            "Epoch 16/30\n",
            "700/700 [==============================] - 3s 4ms/step - loss: 0.0906 - acc: 0.9957 - val_loss: 0.1361 - val_acc: 0.9800\n",
            "Epoch 17/30\n",
            "700/700 [==============================] - 3s 4ms/step - loss: 0.0672 - acc: 0.9986 - val_loss: 0.1303 - val_acc: 0.9720\n",
            "Epoch 18/30\n",
            "700/700 [==============================] - 3s 4ms/step - loss: 0.0579 - acc: 0.9986 - val_loss: 0.1196 - val_acc: 0.9780\n",
            "Epoch 19/30\n",
            "700/700 [==============================] - 3s 4ms/step - loss: 0.0507 - acc: 0.9957 - val_loss: 0.1090 - val_acc: 0.9760\n",
            "Epoch 20/30\n",
            "700/700 [==============================] - 3s 4ms/step - loss: 0.0400 - acc: 0.9986 - val_loss: 0.1045 - val_acc: 0.9760\n",
            "Epoch 21/30\n",
            "700/700 [==============================] - 3s 4ms/step - loss: 0.0434 - acc: 0.9971 - val_loss: 0.1096 - val_acc: 0.9780\n",
            "Epoch 22/30\n",
            "700/700 [==============================] - 3s 4ms/step - loss: 0.0314 - acc: 1.0000 - val_loss: 0.0999 - val_acc: 0.9780\n",
            "Epoch 23/30\n",
            "700/700 [==============================] - 3s 4ms/step - loss: 0.0264 - acc: 1.0000 - val_loss: 0.0928 - val_acc: 0.9800\n",
            "Epoch 24/30\n",
            "700/700 [==============================] - 3s 4ms/step - loss: 0.0233 - acc: 1.0000 - val_loss: 0.0907 - val_acc: 0.9760\n",
            "Epoch 25/30\n",
            "700/700 [==============================] - 3s 4ms/step - loss: 0.0208 - acc: 1.0000 - val_loss: 0.0909 - val_acc: 0.9720\n",
            "Epoch 26/30\n",
            "700/700 [==============================] - 2s 4ms/step - loss: 0.0187 - acc: 1.0000 - val_loss: 0.0915 - val_acc: 0.9720\n",
            "Epoch 27/30\n",
            "700/700 [==============================] - 3s 4ms/step - loss: 0.0148 - acc: 1.0000 - val_loss: 0.0931 - val_acc: 0.9700\n",
            "Epoch 28/30\n",
            "700/700 [==============================] - 3s 4ms/step - loss: 0.0120 - acc: 1.0000 - val_loss: 0.0907 - val_acc: 0.9720\n",
            "Epoch 29/30\n",
            "700/700 [==============================] - 3s 4ms/step - loss: 0.0155 - acc: 0.9971 - val_loss: 0.0895 - val_acc: 0.9740\n",
            "Epoch 30/30\n",
            "700/700 [==============================] - 3s 4ms/step - loss: 0.0078 - acc: 1.0000 - val_loss: 0.0874 - val_acc: 0.9780\n"
          ],
          "name": "stdout"
        }
      ]
    },
    {
      "cell_type": "code",
      "metadata": {
        "id": "z-TeavxBOzIG",
        "colab_type": "code",
        "outputId": "e6b2dc6f-b12e-48aa-9a24-7ce20443b640",
        "colab": {
          "base_uri": "https://localhost:8080/",
          "height": 545
        }
      },
      "source": [
        "import matplotlib.pyplot as plt\n",
        "acc = history.history['acc']\n",
        "val_acc = history.history['val_acc']\n",
        "loss = history.history['loss']\n",
        "val_loss = history.history['val_loss']\n",
        "epochs = range(1, len(acc) + 1)\n",
        "plt.plot(epochs, acc, 'bo', label='Training acc')\n",
        "plt.plot(epochs, val_acc, 'b', label='Validation acc')\n",
        "plt.title('Training and validation accuracy')\n",
        "plt.legend()\n",
        "plt.figure()\n",
        "plt.plot(epochs, loss, 'bo', label='Training loss')\n",
        "plt.plot(epochs, val_loss, 'b', label='Validation loss')\n",
        "plt.title('Training and validation loss')\n",
        "plt.legend()\n",
        "plt.show()"
      ],
      "execution_count": 0,
      "outputs": [
        {
          "output_type": "display_data",
          "data": {
            "image/png": "[encoded data removed]",
            "text/plain": [
              "<Figure size 432x288 with 1 Axes>"
            ]
          },
          "metadata": {
            "tags": []
          }
        },
        {
          "output_type": "display_data",
          "data": {
            "image/png": "[encoded data removed]",
            "text/plain": [
              "<Figure size 432x288 with 1 Axes>"
            ]
          },
          "metadata": {
            "tags": []
          }
        }
      ]
    },
    {
      "cell_type": "code",
      "metadata": {
        "id": "EYXu5bx3csKP",
        "colab_type": "code",
        "colab": {}
      },
      "source": [
        "model.save('drive/My Drive/DataSet150/feature_extraction_basic2.h5')"
      ],
      "execution_count": 0,
      "outputs": []
    },
    {
      "cell_type": "code",
      "metadata": {
        "id": "TFhTqgREPQAP",
        "colab_type": "code",
        "colab": {}
      },
      "source": [
        "from keras import models\n",
        "from keras import layers\n",
        "model = models.Sequential()\n",
        "model.add(vgg)\n",
        "model.add(layers.Flatten())\n",
        "model.add(layers.Dense(256, activation='relu'))\n",
        "model.add(layers.Dense(22, activation='sigmoid'))"
      ],
      "execution_count": 0,
      "outputs": []
    },
    {
      "cell_type": "code",
      "metadata": {
        "id": "aabC4DcFRkMz",
        "colab_type": "code",
        "outputId": "3452477f-f4d0-4722-edc7-6020650f02e8",
        "colab": {
          "base_uri": "https://localhost:8080/",
          "height": 289
        }
      },
      "source": [
        "model.summary()"
      ],
      "execution_count": 0,
      "outputs": [
        {
          "output_type": "stream",
          "text": [
            "Model: \"sequential_3\"\n",
            "_________________________________________________________________\n",
            "Layer (type)                 Output Shape              Param #   \n",
            "=================================================================\n",
            "vgg16 (Model)                (None, 512, 4, 4)         14714688  \n",
            "_________________________________________________________________\n",
            "flatten_8 (Flatten)          (None, 8192)              0         \n",
            "_________________________________________________________________\n",
            "dense_14 (Dense)             (None, 256)               2097408   \n",
            "_________________________________________________________________\n",
            "dense_15 (Dense)             (None, 22)                5654      \n",
            "=================================================================\n",
            "Total params: 16,817,750\n",
            "Trainable params: 2,103,062\n",
            "Non-trainable params: 14,714,688\n",
            "_________________________________________________________________\n"
          ],
          "name": "stdout"
        }
      ]
    },
    {
      "cell_type": "code",
      "metadata": {
        "id": "HwbNmyW8ckYU",
        "colab_type": "code",
        "colab": {}
      },
      "source": [
        ""
      ],
      "execution_count": 0,
      "outputs": []
    },
    {
      "cell_type": "code",
      "metadata": {
        "id": "6o1qk75oRn_W",
        "colab_type": "code",
        "colab": {}
      },
      "source": [
        "\n",
        "# print('This is the number of trainable weights '\n",
        "# 'before freezing the conv base:', len(model.trainable_weights))\n",
        "# #This is the number of trainable weights before freezing the conv base: 30\n",
        "# conv_base.trainable = False\n",
        "# print('This is the number of trainable weights '\n",
        "# 'after freezing the conv base:', len(model.trainable_weights))\n",
        "# #This is the number of trainable weights after freezing the conv base: 4"
      ],
      "execution_count": 0,
      "outputs": []
    },
    {
      "cell_type": "code",
      "metadata": {
        "id": "KSFtIqC2bZ25",
        "colab_type": "code",
        "outputId": "02d638c6-a4f0-4755-bf18-dce10b910162",
        "colab": {
          "base_uri": "https://localhost:8080/",
          "height": 411
        }
      },
      "source": [
        "from keras.preprocessing.image import ImageDataGenerator\n",
        "from keras import optimizers\n",
        "\n",
        "train_datagen = ImageDataGenerator(\n",
        "                rescale=1./255,\n",
        "                rotation_range=40,\n",
        "                width_shift_range=0.2,\n",
        "                height_shift_range=0.2,\n",
        "                shear_range=0.2,\n",
        "                zoom_range=0.2,\n",
        "                horizontal_flip=True,\n",
        "                fill_mode='nearest')\n",
        "\n",
        "test_datagen = ImageDataGenerator(rescale=1./255)\n",
        "train_generator = train_datagen.flow_from_directory(\n",
        "                train_path,\n",
        "                target_size=(150, 150),\n",
        "                batch_size=10,\n",
        "                class_mode='categorical')\n",
        "\n",
        "validation_generator = test_datagen.flow_from_directory(\n",
        "                validation_path,\n",
        "                target_size=(150, 150),\n",
        "                batch_size=10,\n",
        "                class_mode='categorical')\n",
        "\n",
        "model.compile(loss='categorical_crossentropy',\n",
        "                optimizer=optimizers.RMSprop(lr=2e-5),\n",
        "                metrics=['acc'])\n",
        "\n",
        "history = model.fit_generator(\n",
        "                train_generator,\n",
        "                steps_per_epoch=100,\n",
        "                epochs=10,\n",
        "                validation_data=validation_generator,\n",
        "                validation_steps=50)"
      ],
      "execution_count": 0,
      "outputs": [
        {
          "output_type": "stream",
          "text": [
            "Found 801 images belonging to 22 classes.\n",
            "Found 764 images belonging to 22 classes.\n",
            "Epoch 1/10\n",
            "100/100 [==============================] - 425s 4s/step - loss: 3.0288 - acc: 0.0610 - val_loss: 2.9238 - val_acc: 0.1300\n",
            "Epoch 2/10\n",
            "100/100 [==============================] - 419s 4s/step - loss: 2.8508 - acc: 0.2370 - val_loss: 2.6847 - val_acc: 0.4534\n",
            "Epoch 3/10\n",
            "100/100 [==============================] - 424s 4s/step - loss: 2.5668 - acc: 0.5300 - val_loss: 2.3243 - val_acc: 0.7140\n",
            "Epoch 4/10\n",
            "100/100 [==============================] - 427s 4s/step - loss: 2.2022 - acc: 0.7181 - val_loss: 1.8685 - val_acc: 0.8644\n",
            "Epoch 5/10\n",
            "100/100 [==============================] - 421s 4s/step - loss: 1.7997 - acc: 0.8440 - val_loss: 1.4407 - val_acc: 0.9291\n",
            "Epoch 6/10\n",
            "100/100 [==============================] - 421s 4s/step - loss: 1.4324 - acc: 0.8920 - val_loss: 1.1204 - val_acc: 0.9320\n",
            "Epoch 7/10\n",
            "100/100 [==============================] - 419s 4s/step - loss: 1.1860 - acc: 0.8761 - val_loss: 0.8391 - val_acc: 0.9534\n",
            "Epoch 8/10\n",
            "100/100 [==============================] - 422s 4s/step - loss: 0.9344 - acc: 0.9320 - val_loss: 0.6891 - val_acc: 0.9615\n",
            "Epoch 9/10\n",
            "100/100 [==============================] - 421s 4s/step - loss: 0.7471 - acc: 0.9540 - val_loss: 0.5193 - val_acc: 0.9640\n",
            "Epoch 10/10\n",
            "100/100 [==============================] - 416s 4s/step - loss: 0.6109 - acc: 0.9540 - val_loss: 0.4332 - val_acc: 0.9595\n"
          ],
          "name": "stdout"
        }
      ]
    },
    {
      "cell_type": "code",
      "metadata": {
        "id": "3Dsx4tQabfk5",
        "colab_type": "code",
        "colab": {}
      },
      "source": [
        "import matplotlib.pyplot as plt\n",
        "acc = history.history['acc']\n",
        "val_acc = history.history['val_acc']\n",
        "loss = history.history['loss']\n",
        "val_loss = history.history['val_loss']\n",
        "epochs = range(1, len(acc) + 1)\n",
        "plt.plot(epochs, acc, 'bo', label='Training acc')\n",
        "plt.plot(epochs, val_acc, 'b', label='Validation acc')\n",
        "plt.title('Training and validation accuracy')\n",
        "plt.legend()\n",
        "plt.figure()\n",
        "plt.plot(epochs, loss, 'bo', label='Training loss')\n",
        "plt.plot(epochs, val_loss, 'b', label='Validation loss')\n",
        "plt.title('Training and validation loss')\n",
        "plt.legend()\n",
        "plt.show()"
      ],
      "execution_count": 0,
      "outputs": []
    },
    {
      "cell_type": "code",
      "metadata": {
        "id": "DQ6nEj554xy9",
        "colab_type": "code",
        "colab": {}
      },
      "source": [
        "conv_base.summary()\n"
      ],
      "execution_count": 0,
      "outputs": []
    },
    {
      "cell_type": "code",
      "metadata": {
        "id": "Srm0QFFH5Djt",
        "colab_type": "code",
        "colab": {}
      },
      "source": [
        "conv_base.trainable = True\n",
        "set_trainable = False\n",
        "for layer in conv_base.layers:\n",
        "  if layer.name == 'block5_conv1':\n",
        "    set_trainable = True\n",
        "  if set_trainable:\n",
        "    layer.trainable = True\n",
        "  else:\n",
        "    layer.trainable = False"
      ],
      "execution_count": 0,
      "outputs": []
    },
    {
      "cell_type": "code",
      "metadata": {
        "id": "AaDrZOVn5MUc",
        "colab_type": "code",
        "colab": {}
      },
      "source": [
        "\n",
        "model.compile(loss='categorical_crossentropy',\n",
        "optimizer=optimizers.RMSprop(lr=2e-5),\n",
        "metrics=['acc'])\n",
        "history = model.fit_generator(\n",
        "train_generator,\n",
        "steps_per_epoch=100,\n",
        "epochs=10,\n",
        "validation_data=validation_generator,\n",
        "validation_steps=50)"
      ],
      "execution_count": 0,
      "outputs": []
    },
    {
      "cell_type": "code",
      "metadata": {
        "id": "NfSo2XnY5R17",
        "colab_type": "code",
        "colab": {}
      },
      "source": [
        "  import matplotlib.pyplot as plt\n",
        "acc = history.history['acc']\n",
        "val_acc = history.history['val_acc']\n",
        "loss = history.history['loss']\n",
        "val_loss = history.history['val_loss']\n",
        "epochs = range(1, len(acc) + 1)\n",
        "plt.plot(epochs, acc, 'bo', label='Training acc')\n",
        "plt.plot(epochs, val_acc, 'b', label='Validation acc')\n",
        "plt.title('Training and validation accuracy')\n",
        "plt.legend()\n",
        "plt.figure()\n",
        "plt.plot(epochs, loss, 'bo', label='Training loss')\n",
        "plt.plot(epochs, val_loss, 'b', label='Validation loss')\n",
        "plt.title('Training and validation loss')\n",
        "plt.legend()\n",
        "plt.show()"
      ],
      "execution_count": 0,
      "outputs": []
    },
    {
      "cell_type": "code",
      "metadata": {
        "id": "o34_TL04bH53",
        "colab_type": "code",
        "colab": {}
      },
      "source": [
        ""
      ],
      "execution_count": 0,
      "outputs": []
    }
  ]
}